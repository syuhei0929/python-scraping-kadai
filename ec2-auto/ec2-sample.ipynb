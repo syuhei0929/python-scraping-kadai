{
 "cells": [
  {
   "cell_type": "code",
   "execution_count": 1,
   "id": "a7e88548",
   "metadata": {},
   "outputs": [
    {
     "name": "stdout",
     "output_type": "stream",
     "text": [
      "i-05cc604e17f8cec3fを起動しました。\n"
     ]
    }
   ],
   "source": [
    "#起動コード\n",
    "import boto3\n",
    "from boto3.session import Session\n",
    "\n",
    "session = Session(profile_name='tokyo',region_name='ap-northeast-1')\n",
    "ec2 = boto3.resource('ec2')\n",
    "\n",
    "instance_id = 'i-05cc604e17f8cec3f'\n",
    "instance = ec2.Instance(instance_id)\n",
    "response = instance.start()\n",
    "print(f\"{instance_id}を起動しました。\")"
   ]
  },
  {
   "cell_type": "code",
   "execution_count": 2,
   "id": "27c19dfb",
   "metadata": {},
   "outputs": [
    {
     "name": "stdout",
     "output_type": "stream",
     "text": [
      "i-05cc604e17f8cec3fを停止しました。\n"
     ]
    }
   ],
   "source": [
    "#停止コード\n",
    "import boto3\n",
    "from boto3.session import Session\n",
    "\n",
    "session = Session(profile_name='tokyo',region_name='ap-northeast-1')\n",
    "ec2 = boto3.resource('ec2')\n",
    "\n",
    "instance_id = 'i-05cc604e17f8cec3f'\n",
    "instance = ec2.Instance(instance_id)\n",
    "response = instance.stop()\n",
    "print(f\"{instance_id}を停止しました。\")\n"
   ]
  },
  {
   "cell_type": "code",
   "execution_count": 3,
   "id": "9276e5f1",
   "metadata": {},
   "outputs": [
    {
     "name": "stdout",
     "output_type": "stream",
     "text": [
      "現在の状況： stopping\n",
      "i-05cc604e17f8cec3fは現在stopping状態のため、操作をスキップしました。\n"
     ]
    }
   ],
   "source": [
    "#EC2の状況を見て起動・停止・状態確認をするコマンド\n",
    "\n",
    "import boto3\n",
    "from boto3.session import Session\n",
    "\n",
    "session = Session(profile_name='tokyo',region_name='ap-northeast-1')\n",
    "\n",
    "ec2 = boto3.resource('ec2')\n",
    "instance_id = 'i-05cc604e17f8cec3f'\n",
    "\n",
    "instance = ec2.Instance(instance_id)\n",
    "current_state = instance.state['Name']\n",
    "print(f\"現在の状況： {current_state}\")\n",
    "\n",
    "if current_state == 'stopped':\n",
    "    instance.start()\n",
    "    print(f\"{instance_id}を起動しました。\")\n",
    "elif current_state == 'running':\n",
    "    instance.stop()\n",
    "    print(f\"{instance_id}を停止しました。\")\n",
    "else:\n",
    "    print(f\"{instance_id}は現在{current_state}状態のため、操作をスキップしました。\")\n"
   ]
  },
  {
   "cell_type": "code",
   "execution_count": 4,
   "id": "648a25b7",
   "metadata": {},
   "outputs": [
    {
     "name": "stdout",
     "output_type": "stream",
     "text": [
      "i-05cc604e17f8cec3fの現在の状態：stopping\n",
      "i-05cc604e17f8cec3fは現在stopping状態のため、操作をスキップしました。\n",
      "i-0e6553baefebb744bの現在の状態：stopped\n",
      "i-0e6553baefebb744bを起動しました。\n"
     ]
    }
   ],
   "source": [
    "#複数インスタンスの状態確認・それに対する起動・停止コード\n",
    "\n",
    "import boto3\n",
    "from boto3.session import Session\n",
    "\n",
    "session = Session(profile_name='tokyo',region_name='ap-northeast-1')\n",
    "instance_ids = ['i-05cc604e17f8cec3f','i-0e6553baefebb744b']\n",
    "\n",
    "ec2 = boto3.resource('ec2')\n",
    "for instance_id in instance_ids:\n",
    "    instance = ec2.Instance(instance_id)\n",
    "    state = instance.state['Name']\n",
    "    print(f\"{instance_id}の現在の状態：{state}\")\n",
    "\n",
    "    if state =='stopped':\n",
    "        instance.start()\n",
    "        print(f\"{instance_id}を起動しました。\")\n",
    "    elif state == 'running':\n",
    "        instance.stop()\n",
    "        print(f\"{instance_id}を停止しました。\")\n",
    "    else:\n",
    "        print(f\"{instance_id}は現在{state}状態のため、操作をスキップしました。\")\n",
    "            "
   ]
  },
  {
   "cell_type": "code",
   "execution_count": 6,
   "id": "abd607cc",
   "metadata": {},
   "outputs": [
    {
     "name": "stdout",
     "output_type": "stream",
     "text": [
      "チェック中：i-05cc604e17f8cec3f タグ名：migration-ojt-honnbann1\n",
      "migration-ojt-honnbann1(i-05cc604e17f8cec3f)の現在の状態：stopping\n",
      "migration-ojt-honnbann1(i-05cc604e17f8cec3f)は現在stopping状態のため、操作をスキップしました。\n",
      "チェック中：i-0e6553baefebb744b タグ名：lms\n",
      "lms(i-0e6553baefebb744b)の現在の状態：stopping\n",
      "lms(i-0e6553baefebb744b)は現在stopping状態のため、操作をスキップしました。\n",
      "チェック中：i-035cd2d49fa0614bd タグ名：linux-test-20250411\n"
     ]
    }
   ],
   "source": [
    "#コード・タグ指定でフィルタしてEC2起動・停止\n",
    "\n",
    "import boto3\n",
    "from boto3.session import Session\n",
    "\n",
    "session = Session(profile_name='tokyo',region_name='ap-northeast-1')\n",
    "target_names = ['lms','migration-ojt-honnbann1']\n",
    "ec2 = boto3.resource('ec2')\n",
    "\n",
    "instances = ec2.instances.all()\n",
    "\n",
    "for instance in instances:\n",
    "    tags ={tag['Key']: tag['Value'] for tag in instance.tags or []}\n",
    "    name = tags.get('Name','')\n",
    "    print(f\"チェック中：{instance.id} タグ名：{name}\")\n",
    "    \n",
    "    if name in target_names:\n",
    "        state = instance.state['Name']\n",
    "        print(f\"{name}({instance.id})の現在の状態：{state}\")\n",
    "\n",
    "        if state == 'stopped':\n",
    "            instance.start()\n",
    "            print(f\"{name}({instance.id})を起動しました。\")\n",
    "        elif state == 'running':\n",
    "            instance.stop()\n",
    "            print(f\"{name}({instance.id})を停止しました。\")\n",
    "        else:\n",
    "            print(f\"{name}({instance.id})は現在{state}状態のため、操作をスキップしました。\")    \n"
   ]
  },
  {
   "cell_type": "code",
   "execution_count": null,
   "id": "9652fdd4",
   "metadata": {},
   "outputs": [
    {
     "name": "stdout",
     "output_type": "stream",
     "text": [
      "インスタンス情報をec2^auto/ec2_status_report.csvに出力しました。\n"
     ]
    }
   ],
   "source": [
    "#EC2の最新状態一覧をcsvに出力\n",
    "\n",
    "import boto3\n",
    "import csv\n",
    "from boto3.session import Session\n",
    "\n",
    "session = Session(profile_name='tokyo',region_name='ap-northeast-1')\n",
    "\n",
    "ec2 = boto3.resource('ec2')\n",
    "\n",
    "csv_file = 'ec2_status_report.csv'\n",
    "\n",
    "data = [['Instance ID','Name','State']]\n",
    "\n",
    "instances = ec2.instances.all()\n",
    "for instance in instances:\n",
    "    instance_id = instance.id\n",
    "    state = instance.state['Name']\n",
    "\n",
    "    tags = {tag['Key']:tag['Value'] for tag in instance.tags or []}\n",
    "    name = tags.get('Name','')\n",
    "\n",
    "    data.append([instance_id,name,state])\n",
    "\n",
    "with open(csv_file,mode='w',newline='',encoding='utf-8') as f:\n",
    "    writer = csv.writer(f)\n",
    "    writer.writerows(data)\n",
    "\n",
    "print(f\"インスタンス情報を{csv_file}に出力しました。\")"
   ]
  },
  {
   "cell_type": "code",
   "execution_count": null,
   "id": "1d6fd695",
   "metadata": {},
   "outputs": [
    {
     "name": "stdout",
     "output_type": "stream",
     "text": [
      "停止中のインスタンスをstopped_ec2_report.csvに出力しました。\n"
     ]
    }
   ],
   "source": [
    "#状態がstoppedのものだけ出力\n",
    "\n",
    "import boto3\n",
    "import csv\n",
    "from boto3.session import Session\n",
    "\n",
    "session = Session(profile_name='tokyo',region_name='ap-northeast-1')\n",
    "\n",
    "ec2 = boto3.resource('ec2')\n",
    "\n",
    "csv_file = 'stopped_ec2_report.csv'\n",
    "data = [['Instance_id','Name','State']]\n",
    "\n",
    "instances = ec2.instances.all()\n",
    "\n",
    "for instance in instances:\n",
    "    instance_id = instance.id\n",
    "    state = instance.state['Name']\n",
    "\n",
    "    if state =='stopped':\n",
    "        tags = {tag['Key']:tag['Value'] for tag in instance.tags or []}\n",
    "        name = tags.get('Name','')\n",
    "\n",
    "        data.append([instance_id,name,state])\n",
    "\n",
    "with open(csv_file,mode='w',newline='',encoding='utf-8') as f:\n",
    "    writer = csv.writer(f)\n",
    "    writer.writerows(data)\n",
    "print(f\"停止中のインスタンスを{csv_file}に出力しました。\")"
   ]
  },
  {
   "cell_type": "code",
   "execution_count": null,
   "id": "c44bad11",
   "metadata": {},
   "outputs": [
    {
     "ename": "FileNotFoundError",
     "evalue": "[Errno 2] No such file or directory: 'ec2-auto/ec2_summary_report_2025-04-24.csv'",
     "output_type": "error",
     "traceback": [
      "\u001b[1;31m---------------------------------------------------------------------------\u001b[0m",
      "\u001b[1;31mFileNotFoundError\u001b[0m                         Traceback (most recent call last)",
      "Cell \u001b[1;32mIn[2], line 41\u001b[0m\n\u001b[0;32m     38\u001b[0m data\u001b[38;5;241m.\u001b[39mappend([\u001b[38;5;124m'\u001b[39m\u001b[38;5;124mRunning Instance\u001b[39m\u001b[38;5;124m'\u001b[39m,running_count])\n\u001b[0;32m     39\u001b[0m data\u001b[38;5;241m.\u001b[39mappend([\u001b[38;5;124m'\u001b[39m\u001b[38;5;124mStopped Instance\u001b[39m\u001b[38;5;124m'\u001b[39m,stopped_count])\n\u001b[1;32m---> 41\u001b[0m \u001b[38;5;28;01mwith\u001b[39;00m \u001b[38;5;28;43mopen\u001b[39;49m\u001b[43m(\u001b[49m\u001b[43mcsv_file\u001b[49m\u001b[43m,\u001b[49m\u001b[43m \u001b[49m\u001b[43mmode\u001b[49m\u001b[38;5;241;43m=\u001b[39;49m\u001b[38;5;124;43m'\u001b[39;49m\u001b[38;5;124;43mw\u001b[39;49m\u001b[38;5;124;43m'\u001b[39;49m\u001b[43m,\u001b[49m\u001b[43mnewline\u001b[49m\u001b[38;5;241;43m=\u001b[39;49m\u001b[38;5;124;43m'\u001b[39;49m\u001b[38;5;124;43m'\u001b[39;49m\u001b[43m,\u001b[49m\u001b[43mencoding\u001b[49m\u001b[38;5;241;43m=\u001b[39;49m\u001b[38;5;124;43m'\u001b[39;49m\u001b[38;5;124;43mutf-8\u001b[39;49m\u001b[38;5;124;43m'\u001b[39;49m\u001b[43m)\u001b[49m \u001b[38;5;28;01mas\u001b[39;00m f:\n\u001b[0;32m     42\u001b[0m     writer \u001b[38;5;241m=\u001b[39m csv\u001b[38;5;241m.\u001b[39mwriter(f)\n\u001b[0;32m     43\u001b[0m     writer\u001b[38;5;241m.\u001b[39mwriterows(data)\n",
      "File \u001b[1;32m~\\AppData\\Roaming\\Python\\Python38\\site-packages\\IPython\\core\\interactiveshell.py:284\u001b[0m, in \u001b[0;36m_modified_open\u001b[1;34m(file, *args, **kwargs)\u001b[0m\n\u001b[0;32m    277\u001b[0m \u001b[38;5;28;01mif\u001b[39;00m file \u001b[38;5;129;01min\u001b[39;00m {\u001b[38;5;241m0\u001b[39m, \u001b[38;5;241m1\u001b[39m, \u001b[38;5;241m2\u001b[39m}:\n\u001b[0;32m    278\u001b[0m     \u001b[38;5;28;01mraise\u001b[39;00m \u001b[38;5;167;01mValueError\u001b[39;00m(\n\u001b[0;32m    279\u001b[0m         \u001b[38;5;124mf\u001b[39m\u001b[38;5;124m\"\u001b[39m\u001b[38;5;124mIPython won\u001b[39m\u001b[38;5;124m'\u001b[39m\u001b[38;5;124mt let you open fd=\u001b[39m\u001b[38;5;132;01m{\u001b[39;00mfile\u001b[38;5;132;01m}\u001b[39;00m\u001b[38;5;124m by default \u001b[39m\u001b[38;5;124m\"\u001b[39m\n\u001b[0;32m    280\u001b[0m         \u001b[38;5;124m\"\u001b[39m\u001b[38;5;124mas it is likely to crash IPython. If you know what you are doing, \u001b[39m\u001b[38;5;124m\"\u001b[39m\n\u001b[0;32m    281\u001b[0m         \u001b[38;5;124m\"\u001b[39m\u001b[38;5;124myou can use builtins\u001b[39m\u001b[38;5;124m'\u001b[39m\u001b[38;5;124m open.\u001b[39m\u001b[38;5;124m\"\u001b[39m\n\u001b[0;32m    282\u001b[0m     )\n\u001b[1;32m--> 284\u001b[0m \u001b[38;5;28;01mreturn\u001b[39;00m \u001b[43mio_open\u001b[49m\u001b[43m(\u001b[49m\u001b[43mfile\u001b[49m\u001b[43m,\u001b[49m\u001b[43m \u001b[49m\u001b[38;5;241;43m*\u001b[39;49m\u001b[43margs\u001b[49m\u001b[43m,\u001b[49m\u001b[43m \u001b[49m\u001b[38;5;241;43m*\u001b[39;49m\u001b[38;5;241;43m*\u001b[39;49m\u001b[43mkwargs\u001b[49m\u001b[43m)\u001b[49m\n",
      "\u001b[1;31mFileNotFoundError\u001b[0m: [Errno 2] No such file or directory: 'ec2-auto/ec2_summary_report_2025-04-24.csv'"
     ]
    }
   ],
   "source": [
    "#EC2の状態をCSVに出力＆タグチェック＆台数集計\n",
    "\n",
    "import boto3\n",
    "import csv\n",
    "from datetime import datetime\n",
    "from boto3.session import Session\n",
    "\n",
    "session = Session(profile_name='tokyo',region_name='ap-northeast-1')\n",
    "\n",
    "ec2 = boto3.resource('ec2')\n",
    "instances = ec2.instances.all()\n",
    "\n",
    "today = datetime.now().strftime('%Y-%m-%d')\n",
    "csv_file = f'ec2_summary_report_{today}.csv'\n",
    "\n",
    "data = [['Report Date',today],[]]\n",
    "data.append(['Instance ID','Name','State'])\n",
    "\n",
    "running_count = 0\n",
    "stopped_count = 0\n",
    "\n",
    "for instance in instances:\n",
    "    instance_id = instance.id\n",
    "    state = instance.state['Name']\n",
    "\n",
    "    if state == 'running':\n",
    "        running_count += 1\n",
    "    elif state == 'stopped':\n",
    "        stopped_count += 1\n",
    "    \n",
    "    tags = {tag['Key']:tag['Value'] for tag in instance.tags or []}\n",
    "    name = tags.get('Name','(なし)')\n",
    "\n",
    "    data.append([instance_id,name,state])\n",
    "\n",
    "data.append([])\n",
    "data.append(['Summary'])\n",
    "data.append(['Running Instance',running_count])\n",
    "data.append(['Stopped Instance',stopped_count])\n",
    "\n",
    "with open(csv_file, mode='w',newline='',encoding='utf-8') as f:\n",
    "    writer = csv.writer(f)\n",
    "    writer.writerows(data)\n",
    "\n",
    "print(f\"レポートを{csv_file}に出力しました。\")\n"
   ]
  }
 ],
 "metadata": {
  "kernelspec": {
   "display_name": "Python 3",
   "language": "python",
   "name": "python3"
  },
  "language_info": {
   "codemirror_mode": {
    "name": "ipython",
    "version": 3
   },
   "file_extension": ".py",
   "mimetype": "text/x-python",
   "name": "python",
   "nbconvert_exporter": "python",
   "pygments_lexer": "ipython3",
   "version": "3.8.5"
  }
 },
 "nbformat": 4,
 "nbformat_minor": 5
}
