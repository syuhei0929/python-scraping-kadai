{
 "cells": [
  {
   "cell_type": "code",
   "execution_count": 4,
   "id": "c6e76bec",
   "metadata": {},
   "outputs": [
    {
     "name": "stdout",
     "output_type": "stream",
     "text": [
      "sample.txtをS3にアップロードしました。\n",
      "\n",
      "--- S3バケット「test-backet-20250407」のファイル一覧---\n",
      "sample.txt\n"
     ]
    }
   ],
   "source": [
    "import boto3\n",
    "import os\n",
    "s3 = boto3.resource('s3')\n",
    "bucket_name = 'test-backet-20250407'\n",
    "local_file = 'sample.txt'\n",
    "s3_file_name = os.path.basename(local_file)\n",
    "\n",
    "s3.Bucket(bucket_name).upload_file(local_file,s3_file_name)\n",
    "print(f\"{local_file}をS3にアップロードしました。\")\n",
    "\n",
    "print(f\"\\n--- S3バケット「{bucket_name}」のファイル一覧---\")\n",
    "for obj in s3.Bucket(bucket_name).objects.all():\n",
    "    print(obj.key)"
   ]
  }
 ],
 "metadata": {
  "kernelspec": {
   "display_name": "Python 3",
   "language": "python",
   "name": "python3"
  },
  "language_info": {
   "codemirror_mode": {
    "name": "ipython",
    "version": 3
   },
   "file_extension": ".py",
   "mimetype": "text/x-python",
   "name": "python",
   "nbconvert_exporter": "python",
   "pygments_lexer": "ipython3",
   "version": "3.8.5"
  }
 },
 "nbformat": 4,
 "nbformat_minor": 5
}
