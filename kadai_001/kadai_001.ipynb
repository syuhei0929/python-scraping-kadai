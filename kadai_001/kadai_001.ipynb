{
 "cells": [
  {
   "cell_type": "code",
   "execution_count": 4,
   "metadata": {},
   "outputs": [
    {
     "name": "stdout",
     "output_type": "stream",
     "text": [
      "ドジャースのベッツ　ドジャースのＭ・ベッツ内野手（３２）が、１８、１９日に東京Ｄで開催されるカブスとの日本開幕シリーズを欠場することが１７日、決まった。ロバーツ監督が明らかにした。\n",
      "\n",
      "【写真】大谷ら主催の食事会に姿はあったが…\n",
      "\n",
      "　ベッツは体調不良のため１５日の巨人戦、１６日の阪神戦をともに欠場。１６日の試合前練習には参加し、大谷翔平投手（３０）らが主催したホテルでの食事会にも出席したが、この日の公式練習には姿を見せなかった。指揮官によると、チームより早く米国に戻ることも検討しているという。まずは体調回復に専念したい考えのようだ。\n",
      "\n",
      "　ベッツは今季から右翼から遊撃に再転向。本来なら２番に入り、同じＭＶＰトリオの大谷、フリーマンと超強力な上位打線を形成するはずだった。１８日の開幕戦でカブス・今永と対戦するド軍にとって大きな痛手となる。報知新聞社\n"
     ]
    }
   ],
   "source": [
    "import requests\n",
    "from bs4 import BeautifulSoup\n",
    "url = 'https://news.yahoo.co.jp/articles/df0e722f8f1c42763d2bcb59b6eefdb54e240787'\n",
    "response = requests.get(url)\n",
    "soup = BeautifulSoup(response.text,'html.parser')\n",
    "article_body = soup.select_one('div.article_body')\n",
    "body_text = article_body.text\n",
    "print(body_text)\n"
   ]
  }
 ],
 "metadata": {
  "kernelspec": {
   "display_name": "Python 3",
   "language": "python",
   "name": "python3"
  },
  "language_info": {
   "codemirror_mode": {
    "name": "ipython",
    "version": 3
   },
   "file_extension": ".py",
   "mimetype": "text/x-python",
   "name": "python",
   "nbconvert_exporter": "python",
   "pygments_lexer": "ipython3",
   "version": "3.8.5"
  }
 },
 "nbformat": 4,
 "nbformat_minor": 2
}
